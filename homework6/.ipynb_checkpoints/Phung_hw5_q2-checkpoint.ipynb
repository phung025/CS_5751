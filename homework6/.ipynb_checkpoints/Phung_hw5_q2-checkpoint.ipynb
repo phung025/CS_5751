{
 "cells": [
  {
   "cell_type": "code",
   "execution_count": 11,
   "metadata": {},
   "outputs": [],
   "source": [
    "library(dplyr)"
   ]
  },
  {
   "cell_type": "markdown",
   "metadata": {},
   "source": [
    "#### Read Input Data"
   ]
  },
  {
   "cell_type": "code",
   "execution_count": 12,
   "metadata": {},
   "outputs": [
    {
     "data": {
      "text/html": [
       "<table>\n",
       "<thead><tr><th scope=col>V1</th><th scope=col>V2</th><th scope=col>V3</th><th scope=col>V4</th><th scope=col>V5</th><th scope=col>V6</th><th scope=col>V7</th><th scope=col>V8</th><th scope=col>V9</th></tr></thead>\n",
       "<tbody>\n",
       "\t<tr><td>18                       </td><td>8                        </td><td>307                      </td><td>130                      </td><td>3504                     </td><td>12.0                     </td><td>70                       </td><td>1                        </td><td>chevrolet chevelle malibu</td></tr>\n",
       "\t<tr><td>15                       </td><td>8                        </td><td>350                      </td><td>165                      </td><td>3693                     </td><td>11.5                     </td><td>70                       </td><td>1                        </td><td>buick skylark 320        </td></tr>\n",
       "\t<tr><td>18                       </td><td>8                        </td><td>318                      </td><td>150                      </td><td>3436                     </td><td>11.0                     </td><td>70                       </td><td>1                        </td><td>plymouth satellite       </td></tr>\n",
       "\t<tr><td>16                       </td><td>8                        </td><td>304                      </td><td>150                      </td><td>3433                     </td><td>12.0                     </td><td>70                       </td><td>1                        </td><td>amc rebel sst            </td></tr>\n",
       "\t<tr><td>17                       </td><td>8                        </td><td>302                      </td><td>140                      </td><td>3449                     </td><td>10.5                     </td><td>70                       </td><td>1                        </td><td>ford torino              </td></tr>\n",
       "</tbody>\n",
       "</table>\n"
      ],
      "text/latex": [
       "\\begin{tabular}{r|lllllllll}\n",
       " V1 & V2 & V3 & V4 & V5 & V6 & V7 & V8 & V9\\\\\n",
       "\\hline\n",
       "\t 18                        & 8                         & 307                       & 130                       & 3504                      & 12.0                      & 70                        & 1                         & chevrolet chevelle malibu\\\\\n",
       "\t 15                        & 8                         & 350                       & 165                       & 3693                      & 11.5                      & 70                        & 1                         & buick skylark 320        \\\\\n",
       "\t 18                        & 8                         & 318                       & 150                       & 3436                      & 11.0                      & 70                        & 1                         & plymouth satellite       \\\\\n",
       "\t 16                        & 8                         & 304                       & 150                       & 3433                      & 12.0                      & 70                        & 1                         & amc rebel sst            \\\\\n",
       "\t 17                        & 8                         & 302                       & 140                       & 3449                      & 10.5                      & 70                        & 1                         & ford torino              \\\\\n",
       "\\end{tabular}\n"
      ],
      "text/markdown": [
       "\n",
       "V1 | V2 | V3 | V4 | V5 | V6 | V7 | V8 | V9 | \n",
       "|---|---|---|---|---|\n",
       "| 18                        | 8                         | 307                       | 130                       | 3504                      | 12.0                      | 70                        | 1                         | chevrolet chevelle malibu | \n",
       "| 15                        | 8                         | 350                       | 165                       | 3693                      | 11.5                      | 70                        | 1                         | buick skylark 320         | \n",
       "| 18                        | 8                         | 318                       | 150                       | 3436                      | 11.0                      | 70                        | 1                         | plymouth satellite        | \n",
       "| 16                        | 8                         | 304                       | 150                       | 3433                      | 12.0                      | 70                        | 1                         | amc rebel sst             | \n",
       "| 17                        | 8                         | 302                       | 140                       | 3449                      | 10.5                      | 70                        | 1                         | ford torino               | \n",
       "\n",
       "\n"
      ],
      "text/plain": [
       "  V1 V2 V3  V4  V5   V6   V7 V8 V9                       \n",
       "1 18 8  307 130 3504 12.0 70 1  chevrolet chevelle malibu\n",
       "2 15 8  350 165 3693 11.5 70 1  buick skylark 320        \n",
       "3 18 8  318 150 3436 11.0 70 1  plymouth satellite       \n",
       "4 16 8  304 150 3433 12.0 70 1  amc rebel sst            \n",
       "5 17 8  302 140 3449 10.5 70 1  ford torino              "
      ]
     },
     "metadata": {},
     "output_type": "display_data"
    }
   ],
   "source": [
    "# Read in csv files\n",
    "df <- read.table(\"auto-mpg.data\", \n",
    "                 header = FALSE,\n",
    "                 sep = \",\")\n",
    "\n",
    "# Display the first 5 rows of the data\n",
    "head(df, 5)"
   ]
  },
  {
   "cell_type": "markdown",
   "metadata": {},
   "source": [
    "#### Preprocess The Data: Drop NA rows, car name column"
   ]
  },
  {
   "cell_type": "code",
   "execution_count": 13,
   "metadata": {},
   "outputs": [
    {
     "data": {
      "text/html": [
       "<table>\n",
       "<thead><tr><th scope=col>V1</th><th scope=col>V2</th><th scope=col>V3</th><th scope=col>V4</th><th scope=col>V5</th><th scope=col>V6</th><th scope=col>V7</th><th scope=col>V8</th></tr></thead>\n",
       "<tbody>\n",
       "\t<tr><td>18  </td><td>8   </td><td>307 </td><td>130 </td><td>3504</td><td>12.0</td><td>70  </td><td>1   </td></tr>\n",
       "\t<tr><td>15  </td><td>8   </td><td>350 </td><td>165 </td><td>3693</td><td>11.5</td><td>70  </td><td>1   </td></tr>\n",
       "\t<tr><td>18  </td><td>8   </td><td>318 </td><td>150 </td><td>3436</td><td>11.0</td><td>70  </td><td>1   </td></tr>\n",
       "\t<tr><td>16  </td><td>8   </td><td>304 </td><td>150 </td><td>3433</td><td>12.0</td><td>70  </td><td>1   </td></tr>\n",
       "\t<tr><td>17  </td><td>8   </td><td>302 </td><td>140 </td><td>3449</td><td>10.5</td><td>70  </td><td>1   </td></tr>\n",
       "</tbody>\n",
       "</table>\n"
      ],
      "text/latex": [
       "\\begin{tabular}{r|llllllll}\n",
       " V1 & V2 & V3 & V4 & V5 & V6 & V7 & V8\\\\\n",
       "\\hline\n",
       "\t 18   & 8    & 307  & 130  & 3504 & 12.0 & 70   & 1   \\\\\n",
       "\t 15   & 8    & 350  & 165  & 3693 & 11.5 & 70   & 1   \\\\\n",
       "\t 18   & 8    & 318  & 150  & 3436 & 11.0 & 70   & 1   \\\\\n",
       "\t 16   & 8    & 304  & 150  & 3433 & 12.0 & 70   & 1   \\\\\n",
       "\t 17   & 8    & 302  & 140  & 3449 & 10.5 & 70   & 1   \\\\\n",
       "\\end{tabular}\n"
      ],
      "text/markdown": [
       "\n",
       "V1 | V2 | V3 | V4 | V5 | V6 | V7 | V8 | \n",
       "|---|---|---|---|---|\n",
       "| 18   | 8    | 307  | 130  | 3504 | 12.0 | 70   | 1    | \n",
       "| 15   | 8    | 350  | 165  | 3693 | 11.5 | 70   | 1    | \n",
       "| 18   | 8    | 318  | 150  | 3436 | 11.0 | 70   | 1    | \n",
       "| 16   | 8    | 304  | 150  | 3433 | 12.0 | 70   | 1    | \n",
       "| 17   | 8    | 302  | 140  | 3449 | 10.5 | 70   | 1    | \n",
       "\n",
       "\n"
      ],
      "text/plain": [
       "  V1 V2 V3  V4  V5   V6   V7 V8\n",
       "1 18 8  307 130 3504 12.0 70 1 \n",
       "2 15 8  350 165 3693 11.5 70 1 \n",
       "3 18 8  318 150 3436 11.0 70 1 \n",
       "4 16 8  304 150 3433 12.0 70 1 \n",
       "5 17 8  302 140 3449 10.5 70 1 "
      ]
     },
     "metadata": {},
     "output_type": "display_data"
    }
   ],
   "source": [
    "# Take out the columns with categorical values\n",
    "nums <- sapply(df, is.numeric)\n",
    "df <- df[,nums]\n",
    "\n",
    "# Take out rows contain NA value\n",
    "df <- na.omit(df)\n",
    "\n",
    "# Display processed data\n",
    "head(df, 5)"
   ]
  },
  {
   "cell_type": "markdown",
   "metadata": {},
   "source": [
    "#### Split Data into 2 Portions: 80% for Training, 20% for Testing"
   ]
  },
  {
   "cell_type": "code",
   "execution_count": 14,
   "metadata": {},
   "outputs": [
    {
     "name": "stderr",
     "output_type": "stream",
     "text": [
      "Joining, by = c(\"V1\", \"V2\", \"V3\", \"V4\", \"V5\", \"V6\", \"V7\", \"V8\")\n"
     ]
    }
   ],
   "source": [
    "training_set <- df[sample(nrow(df), floor(nrow(df)*0.8)),]\n",
    "test_set = anti_join(df, training_set)"
   ]
  },
  {
   "cell_type": "markdown",
   "metadata": {},
   "source": [
    "#### Print The Equation for The Linear Model\n",
    "Note: This model discards the last variable: car name"
   ]
  },
  {
   "cell_type": "markdown",
   "metadata": {},
   "source": [
    "$$ mpg = \\beta_0 + \\beta_1\\times(cylinders) + \\beta_2\\times(displacement) + \\beta_3\\times(horsepower) + \\beta_4\\times(weight) + \\beta_5\\times(acceleration) + \\beta_6\\times(model\\_year) + \\beta_7\\times(origin) $$ "
   ]
  },
  {
   "cell_type": "markdown",
   "metadata": {},
   "source": [
    "#### Fit Linear Model"
   ]
  },
  {
   "cell_type": "code",
   "execution_count": 15,
   "metadata": {},
   "outputs": [
    {
     "data": {
      "text/plain": [
       "\n",
       "Call:\n",
       "lm(formula = V1 ~ V2 + V3 + V4 + V5 + V6 + V7 + V8, data = training_set)\n",
       "\n",
       "Residuals:\n",
       "    Min      1Q  Median      3Q     Max \n",
       "-7.9232 -2.2309 -0.2106  1.8222 12.5117 \n",
       "\n",
       "Coefficients:\n",
       "              Estimate Std. Error t value Pr(>|t|)    \n",
       "(Intercept) -1.704e+01  5.188e+00  -3.284  0.00114 ** \n",
       "V2          -7.079e-01  3.614e-01  -1.959  0.05103 .  \n",
       "V3           2.689e-02  8.580e-03   3.134  0.00189 ** \n",
       "V4          -1.973e-02  1.592e-02  -1.239  0.21612    \n",
       "V5          -6.593e-03  7.298e-04  -9.034  < 2e-16 ***\n",
       "V6           1.483e-01  1.108e-01   1.339  0.18159    \n",
       "V7           7.332e-01  5.700e-02  12.864  < 2e-16 ***\n",
       "V8           1.841e+00  3.223e-01   5.713 2.64e-08 ***\n",
       "---\n",
       "Signif. codes:  0 ‘***’ 0.001 ‘**’ 0.01 ‘*’ 0.05 ‘.’ 0.1 ‘ ’ 1\n",
       "\n",
       "Residual standard error: 3.323 on 305 degrees of freedom\n",
       "Multiple R-squared:  0.8277,\tAdjusted R-squared:  0.8237 \n",
       "F-statistic: 209.3 on 7 and 305 DF,  p-value: < 2.2e-16\n"
      ]
     },
     "metadata": {},
     "output_type": "display_data"
    }
   ],
   "source": [
    "fitted_model <- lm(V1~V2+V3+V4+V5+V6+V7+V8, data=training_set)\n",
    "summary(fitted_model)"
   ]
  },
  {
   "cell_type": "markdown",
   "metadata": {},
   "source": [
    "#### Make Prediction Using The Test Set and The Fitted Model"
   ]
  },
  {
   "cell_type": "code",
   "execution_count": 16,
   "metadata": {},
   "outputs": [
    {
     "name": "stdout",
     "output_type": "stream",
     "text": [
      "        1         2         3         4         5         6         7         8 \n",
      "10.571237 20.901423 25.961561 27.784088  6.379957 16.220921 18.131728 19.857537 \n",
      "        9        10        11        12        13        14        15        16 \n",
      "25.296930 13.058916 12.722067 20.464497 24.476249 22.932668 13.586592  9.352859 \n",
      "       17        18        19        20        21        22        23        24 \n",
      "21.305273 21.599129  9.636520 10.718981 27.846522 27.994996 21.918657 12.088565 \n",
      "       25        26        27        28        29        30        31        32 \n",
      "27.051182 16.001430 31.551895 13.533777 10.553860 30.555766 25.313412 27.415042 \n",
      "       33        34        35        36        37        38        39        40 \n",
      "19.768342 21.339268 13.487614 18.543157 17.589331 26.545252 27.676516 24.183985 \n",
      "       41        42        43        44        45        46        47        48 \n",
      "20.977899 28.161288 17.566042 15.888086 24.620547 28.107681 30.766879 33.709912 \n",
      "       49        50        51        52        53        54        55        56 \n",
      "34.676183 23.599743 21.050488 17.254568 28.698504 29.804728 30.190411 30.487704 \n",
      "       57        58        59        60        61        62        63        64 \n",
      "22.822648 25.170074 29.376088 34.114407 30.962817 26.953093 25.432736 30.207923 \n",
      "       65        66        67        68        69        70        71        72 \n",
      "26.423034 31.460575 30.567218 29.526877 35.359690 30.552172 30.097109 34.010350 \n",
      "       73        74        75        76        77        78        79 \n",
      "32.156213 26.263577 29.106331 29.797003 27.591361 31.908467 28.200011 \n"
     ]
    }
   ],
   "source": [
    "print(predict(fitted_model, test_set))"
   ]
  },
  {
   "cell_type": "markdown",
   "metadata": {},
   "source": [
    "#### Report Performance by Computing The Sum Squared Error"
   ]
  },
  {
   "cell_type": "code",
   "execution_count": 17,
   "metadata": {},
   "outputs": [],
   "source": [
    "predicted_vals <- as.matrix(predict(fitted_model, test_set))\n",
    "SSRes <- sum((test_set['V1']-predicted_vals)^2)"
   ]
  },
  {
   "cell_type": "code",
   "execution_count": 18,
   "metadata": {},
   "outputs": [
    {
     "name": "stdout",
     "output_type": "stream",
     "text": [
      "Sum squared error: 926.4498"
     ]
    }
   ],
   "source": [
    "cat(\"Sum squared error:\", SSRes)"
   ]
  },
  {
   "cell_type": "markdown",
   "metadata": {},
   "source": [
    "#### Fit The Linear Model on The Training Set and Test The Model on The Test Set Used in Question 1"
   ]
  },
  {
   "cell_type": "code",
   "execution_count": 64,
   "metadata": {},
   "outputs": [
    {
     "name": "stderr",
     "output_type": "stream",
     "text": [
      "Warning message in scan(file = file, what = what, sep = sep, quote = quote, dec = dec, :\n",
      "“EOF within quoted string”"
     ]
    }
   ],
   "source": [
    "# Read training set file\n",
    "training_set_2 <- read.table(\"training_set.csv\", header = TRUE, sep = \",\")\n",
    "\n",
    "# Read test set file\n",
    "test_set_2 <- read.table(\"test_set.csv\", header = TRUE, sep = \",\") \n",
    "test_set_2 <- test_set_2[c(\"mpg\", \"cylinders\", \"displacement\", \"horsepower\", \"weight\", \"acceleration\", \"model.year\", \"origin\")]"
   ]
  },
  {
   "cell_type": "code",
   "execution_count": 60,
   "metadata": {},
   "outputs": [
    {
     "data": {
      "text/plain": [
       "\n",
       "Call:\n",
       "lm(formula = mpg ~ cylinders + displacement + horsepower + weight + \n",
       "    acceleration + model.year + origin, data = training_set_2)\n",
       "\n",
       "Residuals:\n",
       "   Min     1Q Median     3Q    Max \n",
       "-7.428 -2.765 -0.133  2.349 12.220 \n",
       "\n",
       "Coefficients:\n",
       "               Estimate Std. Error t value Pr(>|t|)    \n",
       "(Intercept)  -17.365671  12.987420  -1.337 0.184883    \n",
       "cylinders     -1.303389   0.736752  -1.769 0.080595 .  \n",
       "displacement   0.027050   0.017610   1.536 0.128377    \n",
       "horsepower    -0.056926   0.033995  -1.675 0.097833 .  \n",
       "weight        -0.004789   0.001329  -3.604 0.000535 ***\n",
       "acceleration  -0.346059   0.220746  -1.568 0.120808    \n",
       "model.year     0.874560   0.142334   6.144 2.76e-08 ***\n",
       "origin         1.556091   0.695449   2.238 0.027964 *  \n",
       "---\n",
       "Signif. codes:  0 ‘***’ 0.001 ‘**’ 0.01 ‘*’ 0.05 ‘.’ 0.1 ‘ ’ 1\n",
       "\n",
       "Residual standard error: 3.963 on 82 degrees of freedom\n",
       "Multiple R-squared:  0.8152,\tAdjusted R-squared:  0.7995 \n",
       "F-statistic: 51.69 on 7 and 82 DF,  p-value: < 2.2e-16\n"
      ]
     },
     "metadata": {},
     "output_type": "display_data"
    }
   ],
   "source": [
    "fitted_model_2 <- lm(mpg~cylinders+displacement+horsepower+weight+acceleration+model.year+origin, data=training_set_2)\n",
    "summary(fitted_model_2)"
   ]
  },
  {
   "cell_type": "markdown",
   "metadata": {},
   "source": [
    "#### Report Performance by Computing The Sum Squared Error"
   ]
  },
  {
   "cell_type": "code",
   "execution_count": 69,
   "metadata": {},
   "outputs": [],
   "source": [
    "predicted_vals_2 <- as.matrix(predict(fitted_model_2, test_set_2))\n",
    "SSRes <- sum((test_set_2['mpg']-predicted_vals_2)^2)"
   ]
  },
  {
   "cell_type": "code",
   "execution_count": 76,
   "metadata": {},
   "outputs": [
    {
     "name": "stdout",
     "output_type": "stream",
     "text": [
      "Sum squared error: 616.2629 \n",
      "[1] \"The sum squared error obtained from using the lm function in R is a little bit higher than the one obtained from using scikit learn in Python\"\n"
     ]
    }
   ],
   "source": [
    "cat(\"Sum squared error:\", SSRes , \"\\n\")\n",
    "print(\"The sum squared error obtained from using the lm function in R is a little bit higher than the one obtained from using scikit learn in Python\")"
   ]
  }
 ],
 "metadata": {
  "kernelspec": {
   "display_name": "R",
   "language": "R",
   "name": "ir"
  },
  "language_info": {
   "codemirror_mode": "r",
   "file_extension": ".r",
   "mimetype": "text/x-r-source",
   "name": "R",
   "pygments_lexer": "r",
   "version": "3.4.2"
  }
 },
 "nbformat": 4,
 "nbformat_minor": 2
}
