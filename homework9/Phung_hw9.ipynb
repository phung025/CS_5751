{
 "cells": [
  {
   "cell_type": "code",
   "execution_count": 1,
   "metadata": {},
   "outputs": [],
   "source": [
    "import numpy as np\n",
    "import pandas as pd\n",
    "from pandas import Series, DataFrame\n",
    "from sklearn.metrics import confusion_matrix\n",
    "import matplotlib.pyplot as plt\n",
    "\n",
    "# Multi-nominal naive bayes algorithm\n",
    "from sklearn.naive_bayes import MultinomialNB\n",
    "\n",
    "%matplotlib inline"
   ]
  },
  {
   "cell_type": "markdown",
   "metadata": {},
   "source": [
    "#### Read Input Data"
   ]
  },
  {
   "cell_type": "code",
   "execution_count": 2,
   "metadata": {},
   "outputs": [
    {
     "name": "stdout",
     "output_type": "stream",
     "text": [
      "   a  b  c  class\n",
      "0  0  0  1      1\n",
      "1  0  0  1      0\n",
      "2  0  1  1      0\n",
      "3  0  1  1      0\n",
      "4  1  0  1      1\n",
      "5  1  0  1      0\n",
      "6  1  0  1      0\n",
      "7  0  0  0      1\n",
      "8  1  1  1      1\n",
      "9  1  0  1      1\n"
     ]
    }
   ],
   "source": [
    "input_data = pd.read_csv(\"data.txt\", sep=',')\n",
    "X = input_data[input_data.columns.tolist()[:-1]].values\n",
    "Y = input_data[input_data.columns.tolist()[-1]].values\n",
    "\n",
    "print(input_data)"
   ]
  },
  {
   "cell_type": "markdown",
   "metadata": {},
   "source": [
    "#### Part A - Fit A Naive Bayes Classifier using m-estimate approach"
   ]
  },
  {
   "cell_type": "code",
   "execution_count": 3,
   "metadata": {},
   "outputs": [],
   "source": [
    "clf = MultinomialNB()\n",
    "clf.fit(X, Y)\n",
    "\n",
    "# Train a classifier and test it on the training set only\n",
    "def naive_m_estimate(x, y):\n",
    "    m = 1\n",
    "    predict = []\n",
    "    for i in range(0, np.shape(X)[0]):\n",
    "        prob = 1\n",
    "        N_c = np.count_nonzero(y == 1)\n",
    "        \n",
    "        for j in range(0, np.shape(X)[1]):\n",
    "            tmp = pd.concat([DataFrame(x), DataFrame(y)], axis=1)\n",
    "            tmp.columns = [x for x in range(0, np.shape(tmp)[1])]\n",
    "            N_ic = len(tmp[(tmp[j] == x[i][j]) & (tmp[np.shape(X)[1]] == 1)])\n",
    "            p = N_ic / N_c\n",
    "            prob *= ((N_ic + m*p) / (N_c + m))\n",
    "        \n",
    "        predict.append([1-prob, prob])\n",
    "    return predict"
   ]
  },
  {
   "cell_type": "code",
   "execution_count": 4,
   "metadata": {},
   "outputs": [
    {
     "data": {
      "text/plain": [
       "[[0.744, 0.25599999999999995],\n",
       " [0.744, 0.25599999999999995],\n",
       " [0.936, 0.06399999999999999],\n",
       " [0.936, 0.06399999999999999],\n",
       " [0.6160000000000001, 0.3839999999999999],\n",
       " [0.6160000000000001, 0.3839999999999999],\n",
       " [0.6160000000000001, 0.3839999999999999],\n",
       " [0.936, 0.06399999999999999],\n",
       " [0.904, 0.09599999999999997],\n",
       " [0.6160000000000001, 0.3839999999999999]]"
      ]
     },
     "execution_count": 4,
     "metadata": {},
     "output_type": "execute_result"
    }
   ],
   "source": [
    "naive_m_estimate(X, Y)"
   ]
  },
  {
   "cell_type": "markdown",
   "metadata": {},
   "source": [
    "#### Part B - In the same figure, plot the ROC curve for the NaïveBayes classifier of part  1a,  plot the  ROC  curve  for  the  M’classification  model,  and  plot  the  ROC curve forthe random guesser.Your plot must have a caption, a legend, and its ax-es must have proper labels.You must show the calculations that you used to plot the curves.You can check your answers with sklearn or caret."
   ]
  },
  {
   "cell_type": "code",
   "execution_count": 158,
   "metadata": {},
   "outputs": [],
   "source": [
    "# Compute the TPR & FPR for plotting the ROC curve. Only use for problems with 2 classes 0 and 1\n",
    "# Positive class: 1\n",
    "# Negative class: 0\n",
    "# Perform the algorithm to comppute TPR and FPR listed IN THE BOOK (NOT THE SLIDE)\n",
    "def compute_tpr_fpr(true_y, predict_prob):\n",
    "    prob_df = DataFrame({'Class': true_y, \n",
    "                         'Probability': predict_prob})\n",
    "    prob_df = prob_df.sort_values(by=['Probability'], ascending=True)\n",
    "    prob_df = prob_df.reset_index(drop=True)\n",
    "    roc_computation_table = DataFrame(index=['Class', 'Threshold', 'TP', 'FP', 'TN', 'FN', 'TPR', 'FPR'], \n",
    "                                      columns=[i for i in range(0, len(true_y))])\n",
    "    \n",
    "    tpr_list = []\n",
    "    fpr_list = []\n",
    "    \n",
    "    previous_class = None\n",
    "    previous_tp = None\n",
    "    previous_fp = None\n",
    "    previous_fn = None\n",
    "    previous_tn = None\n",
    "    for index, row in prob_df.iterrows():\n",
    "        current_class = row[0]\n",
    "        threshold = row[1]\n",
    "        \n",
    "        cf_matrix = np.zeros(4).reshape(2,2)\n",
    "        cf_matrix[0][0] = previous_tp\n",
    "        cf_matrix[0][1] = previous_fn\n",
    "        cf_matrix[1][0] = previous_fp\n",
    "        cf_matrix[1][1] = previous_tn\n",
    "        \n",
    "        # Update the TP and FP values correspondingly\n",
    "        if index != 0:\n",
    "\n",
    "            if previous_class == 1:\n",
    "                # Update TP\n",
    "                if cf_matrix[0][0] > 0:\n",
    "                    cf_matrix[0][0] -= 1\n",
    "                \n",
    "                # Update FN\n",
    "                if (np.sum(cf_matrix) < len(true_y)):\n",
    "                    cf_matrix[0][1] += 1\n",
    "                \n",
    "            elif previous_class == 0:\n",
    "                # Update FP\n",
    "                if cf_matrix[1][0] > 0:\n",
    "                    cf_matrix[1][0] -= 1\n",
    "\n",
    "                # Update TN \n",
    "                if (np.sum(cf_matrix) < len(true_y)):\n",
    "                    cf_matrix[1][1] += 1\n",
    "            \n",
    "            previous_class = row[0]\n",
    "            previous_tp = cf_matrix[0][0]\n",
    "            previous_fp = cf_matrix[1][0]\n",
    "            previous_tn = cf_matrix[1][1]\n",
    "            previous_fn = cf_matrix[0][1]\n",
    "        else:\n",
    "            \n",
    "            # Apply the threshold to predict the class\n",
    "            new_df = DataFrame(prob_df['Probability'])\n",
    "            new_df[new_df >= threshold] = 1\n",
    "            new_df[new_df < threshold] = 0\n",
    "\n",
    "            # Generate the confusion matrix\n",
    "            cf_matrix = confusion_matrix(prob_df['Class'], new_df['Probability'])\n",
    "            cf_matrix = np.flip(np.flip(cf_matrix, 0), 1)\n",
    "            \n",
    "            previous_class = row[0]\n",
    "            previous_tp = cf_matrix[0][0]\n",
    "            previous_fp = cf_matrix[1][0]\n",
    "            previous_tn = cf_matrix[1][1]\n",
    "            previous_fn = cf_matrix[0][1]\n",
    "        \n",
    "        # Compute the tpr and fpr value\n",
    "        tpr = cf_matrix[0][0] / (np.sum(cf_matrix[0]) if np.sum(cf_matrix[0]) > 0 else 1)\n",
    "        fpr = cf_matrix[1][0] / (np.sum(cf_matrix[1]) if np.sum(cf_matrix[1]) > 0 else 1)\n",
    "        \n",
    "        tpr_list.append(tpr)\n",
    "        fpr_list.append(fpr)\n",
    "        \n",
    "        # Fill the ROC Table\n",
    "        roc_computation_table[index]['Class'] = current_class\n",
    "        roc_computation_table[index]['Threshold'] = threshold\n",
    "        roc_computation_table[index]['TP'] = cf_matrix[0][0]\n",
    "        roc_computation_table[index]['FN'] = cf_matrix[0][1]\n",
    "        roc_computation_table[index]['TN'] = cf_matrix[1][1]\n",
    "        roc_computation_table[index]['FP'] = cf_matrix[1][0]\n",
    "        roc_computation_table[index]['TPR'] = tpr\n",
    "        roc_computation_table[index]['FPR'] = fpr\n",
    "    \n",
    "    tpr_list.insert(0, 1)\n",
    "    fpr_list.insert(0, 1)\n",
    "    \n",
    "    # Reduce to list of unique points for figure plotting\n",
    "    plot_points = [(fpr_list[i], tpr_list[i]) for i in range(0, len(tpr_list))]\n",
    "    tmp = []\n",
    "    for i in range(len(plot_points)-1, -1, -1):\n",
    "        if plot_points[i] not in tmp:\n",
    "            tmp.append(plot_points[i])\n",
    "    plot_points = tmp\n",
    "    tmp = [list(t) for t in zip(*plot_points)]\n",
    "    \n",
    "    return tmp[1], tmp[0], roc_computation_table"
   ]
  },
  {
   "cell_type": "code",
   "execution_count": 159,
   "metadata": {},
   "outputs": [
    {
     "data": {
      "text/html": [
       "<div>\n",
       "<style scoped>\n",
       "    .dataframe tbody tr th:only-of-type {\n",
       "        vertical-align: middle;\n",
       "    }\n",
       "\n",
       "    .dataframe tbody tr th {\n",
       "        vertical-align: top;\n",
       "    }\n",
       "\n",
       "    .dataframe thead th {\n",
       "        text-align: right;\n",
       "    }\n",
       "</style>\n",
       "<table border=\"1\" class=\"dataframe\">\n",
       "  <thead>\n",
       "    <tr style=\"text-align: right;\">\n",
       "      <th></th>\n",
       "      <th>0</th>\n",
       "      <th>1</th>\n",
       "      <th>2</th>\n",
       "      <th>3</th>\n",
       "      <th>4</th>\n",
       "      <th>5</th>\n",
       "      <th>6</th>\n",
       "      <th>7</th>\n",
       "      <th>8</th>\n",
       "      <th>9</th>\n",
       "    </tr>\n",
       "  </thead>\n",
       "  <tbody>\n",
       "    <tr>\n",
       "      <th>Class</th>\n",
       "      <td>0</td>\n",
       "      <td>0</td>\n",
       "      <td>1</td>\n",
       "      <td>1</td>\n",
       "      <td>1</td>\n",
       "      <td>0</td>\n",
       "      <td>1</td>\n",
       "      <td>0</td>\n",
       "      <td>0</td>\n",
       "      <td>1</td>\n",
       "    </tr>\n",
       "    <tr>\n",
       "      <th>Threshold</th>\n",
       "      <td>0.064</td>\n",
       "      <td>0.064</td>\n",
       "      <td>0.064</td>\n",
       "      <td>0.096</td>\n",
       "      <td>0.256</td>\n",
       "      <td>0.256</td>\n",
       "      <td>0.384</td>\n",
       "      <td>0.384</td>\n",
       "      <td>0.384</td>\n",
       "      <td>0.384</td>\n",
       "    </tr>\n",
       "    <tr>\n",
       "      <th>TP</th>\n",
       "      <td>5</td>\n",
       "      <td>5</td>\n",
       "      <td>5</td>\n",
       "      <td>4</td>\n",
       "      <td>3</td>\n",
       "      <td>2</td>\n",
       "      <td>2</td>\n",
       "      <td>1</td>\n",
       "      <td>1</td>\n",
       "      <td>1</td>\n",
       "    </tr>\n",
       "    <tr>\n",
       "      <th>FP</th>\n",
       "      <td>5</td>\n",
       "      <td>4</td>\n",
       "      <td>3</td>\n",
       "      <td>3</td>\n",
       "      <td>3</td>\n",
       "      <td>3</td>\n",
       "      <td>2</td>\n",
       "      <td>2</td>\n",
       "      <td>1</td>\n",
       "      <td>0</td>\n",
       "    </tr>\n",
       "    <tr>\n",
       "      <th>TN</th>\n",
       "      <td>0</td>\n",
       "      <td>1</td>\n",
       "      <td>2</td>\n",
       "      <td>2</td>\n",
       "      <td>2</td>\n",
       "      <td>2</td>\n",
       "      <td>3</td>\n",
       "      <td>3</td>\n",
       "      <td>4</td>\n",
       "      <td>5</td>\n",
       "    </tr>\n",
       "    <tr>\n",
       "      <th>FN</th>\n",
       "      <td>0</td>\n",
       "      <td>0</td>\n",
       "      <td>0</td>\n",
       "      <td>1</td>\n",
       "      <td>2</td>\n",
       "      <td>3</td>\n",
       "      <td>3</td>\n",
       "      <td>4</td>\n",
       "      <td>4</td>\n",
       "      <td>4</td>\n",
       "    </tr>\n",
       "    <tr>\n",
       "      <th>TPR</th>\n",
       "      <td>1</td>\n",
       "      <td>1</td>\n",
       "      <td>1</td>\n",
       "      <td>0.8</td>\n",
       "      <td>0.6</td>\n",
       "      <td>0.4</td>\n",
       "      <td>0.4</td>\n",
       "      <td>0.2</td>\n",
       "      <td>0.2</td>\n",
       "      <td>0.2</td>\n",
       "    </tr>\n",
       "    <tr>\n",
       "      <th>FPR</th>\n",
       "      <td>1</td>\n",
       "      <td>0.8</td>\n",
       "      <td>0.6</td>\n",
       "      <td>0.6</td>\n",
       "      <td>0.6</td>\n",
       "      <td>0.6</td>\n",
       "      <td>0.4</td>\n",
       "      <td>0.4</td>\n",
       "      <td>0.2</td>\n",
       "      <td>0</td>\n",
       "    </tr>\n",
       "  </tbody>\n",
       "</table>\n",
       "</div>"
      ],
      "text/plain": [
       "               0      1      2      3      4      5      6      7      8  \\\n",
       "Class          0      0      1      1      1      0      1      0      0   \n",
       "Threshold  0.064  0.064  0.064  0.096  0.256  0.256  0.384  0.384  0.384   \n",
       "TP             5      5      5      4      3      2      2      1      1   \n",
       "FP             5      4      3      3      3      3      2      2      1   \n",
       "TN             0      1      2      2      2      2      3      3      4   \n",
       "FN             0      0      0      1      2      3      3      4      4   \n",
       "TPR            1      1      1    0.8    0.6    0.4    0.4    0.2    0.2   \n",
       "FPR            1    0.8    0.6    0.6    0.6    0.6    0.4    0.4    0.2   \n",
       "\n",
       "               9  \n",
       "Class          1  \n",
       "Threshold  0.384  \n",
       "TP             1  \n",
       "FP             0  \n",
       "TN             5  \n",
       "FN             4  \n",
       "TPR          0.2  \n",
       "FPR            0  "
      ]
     },
     "execution_count": 159,
     "metadata": {},
     "output_type": "execute_result"
    }
   ],
   "source": [
    "# Compute TPR, FPR for m-estimate approach model\n",
    "predict_proba_m_est = [x[1] for x in naive_m_estimate(X, Y)]\n",
    "tpr_m_est, fpr_m_est, roc_table = compute_tpr_fpr(Y, predict_proba_m_est)\n",
    "roc_table"
   ]
  },
  {
   "cell_type": "code",
   "execution_count": 160,
   "metadata": {},
   "outputs": [
    {
     "data": {
      "text/html": [
       "<div>\n",
       "<style scoped>\n",
       "    .dataframe tbody tr th:only-of-type {\n",
       "        vertical-align: middle;\n",
       "    }\n",
       "\n",
       "    .dataframe tbody tr th {\n",
       "        vertical-align: top;\n",
       "    }\n",
       "\n",
       "    .dataframe thead th {\n",
       "        text-align: right;\n",
       "    }\n",
       "</style>\n",
       "<table border=\"1\" class=\"dataframe\">\n",
       "  <thead>\n",
       "    <tr style=\"text-align: right;\">\n",
       "      <th></th>\n",
       "      <th>0</th>\n",
       "      <th>1</th>\n",
       "      <th>2</th>\n",
       "      <th>3</th>\n",
       "      <th>4</th>\n",
       "      <th>5</th>\n",
       "      <th>6</th>\n",
       "      <th>7</th>\n",
       "      <th>8</th>\n",
       "      <th>9</th>\n",
       "    </tr>\n",
       "  </thead>\n",
       "  <tbody>\n",
       "    <tr>\n",
       "      <th>Class</th>\n",
       "      <td>0</td>\n",
       "      <td>1</td>\n",
       "      <td>1</td>\n",
       "      <td>0</td>\n",
       "      <td>1</td>\n",
       "      <td>0</td>\n",
       "      <td>0</td>\n",
       "      <td>1</td>\n",
       "      <td>0</td>\n",
       "      <td>1</td>\n",
       "    </tr>\n",
       "    <tr>\n",
       "      <th>Threshold</th>\n",
       "      <td>0.08</td>\n",
       "      <td>0.15</td>\n",
       "      <td>0.35</td>\n",
       "      <td>0.44</td>\n",
       "      <td>0.45</td>\n",
       "      <td>0.47</td>\n",
       "      <td>0.55</td>\n",
       "      <td>0.67</td>\n",
       "      <td>0.69</td>\n",
       "      <td>0.73</td>\n",
       "    </tr>\n",
       "    <tr>\n",
       "      <th>TP</th>\n",
       "      <td>5</td>\n",
       "      <td>5</td>\n",
       "      <td>4</td>\n",
       "      <td>3</td>\n",
       "      <td>3</td>\n",
       "      <td>2</td>\n",
       "      <td>2</td>\n",
       "      <td>2</td>\n",
       "      <td>1</td>\n",
       "      <td>1</td>\n",
       "    </tr>\n",
       "    <tr>\n",
       "      <th>FP</th>\n",
       "      <td>5</td>\n",
       "      <td>4</td>\n",
       "      <td>4</td>\n",
       "      <td>4</td>\n",
       "      <td>3</td>\n",
       "      <td>3</td>\n",
       "      <td>2</td>\n",
       "      <td>1</td>\n",
       "      <td>1</td>\n",
       "      <td>0</td>\n",
       "    </tr>\n",
       "    <tr>\n",
       "      <th>TN</th>\n",
       "      <td>0</td>\n",
       "      <td>1</td>\n",
       "      <td>1</td>\n",
       "      <td>1</td>\n",
       "      <td>2</td>\n",
       "      <td>2</td>\n",
       "      <td>3</td>\n",
       "      <td>4</td>\n",
       "      <td>4</td>\n",
       "      <td>5</td>\n",
       "    </tr>\n",
       "    <tr>\n",
       "      <th>FN</th>\n",
       "      <td>0</td>\n",
       "      <td>0</td>\n",
       "      <td>1</td>\n",
       "      <td>2</td>\n",
       "      <td>2</td>\n",
       "      <td>3</td>\n",
       "      <td>3</td>\n",
       "      <td>3</td>\n",
       "      <td>4</td>\n",
       "      <td>4</td>\n",
       "    </tr>\n",
       "    <tr>\n",
       "      <th>TPR</th>\n",
       "      <td>1</td>\n",
       "      <td>1</td>\n",
       "      <td>0.8</td>\n",
       "      <td>0.6</td>\n",
       "      <td>0.6</td>\n",
       "      <td>0.4</td>\n",
       "      <td>0.4</td>\n",
       "      <td>0.4</td>\n",
       "      <td>0.2</td>\n",
       "      <td>0.2</td>\n",
       "    </tr>\n",
       "    <tr>\n",
       "      <th>FPR</th>\n",
       "      <td>1</td>\n",
       "      <td>0.8</td>\n",
       "      <td>0.8</td>\n",
       "      <td>0.8</td>\n",
       "      <td>0.6</td>\n",
       "      <td>0.6</td>\n",
       "      <td>0.4</td>\n",
       "      <td>0.2</td>\n",
       "      <td>0.2</td>\n",
       "      <td>0</td>\n",
       "    </tr>\n",
       "  </tbody>\n",
       "</table>\n",
       "</div>"
      ],
      "text/plain": [
       "              0     1     2     3     4     5     6     7     8     9\n",
       "Class         0     1     1     0     1     0     0     1     0     1\n",
       "Threshold  0.08  0.15  0.35  0.44  0.45  0.47  0.55  0.67  0.69  0.73\n",
       "TP            5     5     4     3     3     2     2     2     1     1\n",
       "FP            5     4     4     4     3     3     2     1     1     0\n",
       "TN            0     1     1     1     2     2     3     4     4     5\n",
       "FN            0     0     1     2     2     3     3     3     4     4\n",
       "TPR           1     1   0.8   0.6   0.6   0.4   0.4   0.4   0.2   0.2\n",
       "FPR           1   0.8   0.8   0.8   0.6   0.6   0.4   0.2   0.2     0"
      ]
     },
     "execution_count": 160,
     "metadata": {},
     "output_type": "execute_result"
    }
   ],
   "source": [
    "# Compute TPR, FPR for model M'\n",
    "predict_m_prime = [0.73, 0.69, 0.44, 0.55, 0.67, 0.47, 0.08, 0.15, 0.45, 0.35]\n",
    "tpr_m, fpr_m, roc_table = compute_tpr_fpr(Y, predict_m_prime)\n",
    "roc_table"
   ]
  },
  {
   "cell_type": "code",
   "execution_count": 168,
   "metadata": {},
   "outputs": [],
   "source": [
    "def plot_roc_curve(models, labels):\n",
    "    \n",
    "    def compute_auc(x_axes, y_axes):\n",
    "        total_area = 0\n",
    "        for i in range(1, len(x_axes)):\n",
    "            width = x_axes[i] - x_axes[i-1]\n",
    "            \n",
    "            height = y_axes[i]\n",
    "            \n",
    "            # Compute the area of the triangle in 2 cases\n",
    "            if y_axes[i] < y_axes[i-1]:\n",
    "                height = y_axes[i]\n",
    "                total_area += (y_axes[i-1]-y_axes[i]) * width / 2\n",
    "                print(y_axes[1])\n",
    "            elif y_axes[i] > y_axes[i-1]:\n",
    "                height = y_axes[i-1]\n",
    "                total_area += (y_axes[i]-y_axes[i-1]) * width / 2\n",
    "            \n",
    "            area = width*height\n",
    "            total_area += area\n",
    "            \n",
    "        return total_area\n",
    "    \n",
    "    for j in range(0, len(models)):\n",
    "        fpr = models[j][0]\n",
    "        tpr = models[j][1]\n",
    "        \n",
    "        # Compute the area under the curve\n",
    "        area = compute_auc(fpr, tpr)\n",
    "\n",
    "        # Plot the ROC\n",
    "        plt.plot(fpr, tpr, '-', label=labels[j] + (\" (AUC=%.4f)\" % area))\n",
    "    \n",
    "    # Edit the figure components\n",
    "    legend = plt.legend(loc='lower right', shadow=True)\n",
    "    plt.title(\"Comparing ROC Curve among %s model(s)\" % len(models))\n",
    "    plt.xlabel(\"False Positive Rate (FPR)\")\n",
    "    plt.ylabel(\"True Positive Rate (TPR)\")\n",
    "    plt.show()"
   ]
  },
  {
   "cell_type": "code",
   "execution_count": 169,
   "metadata": {},
   "outputs": [
    {
     "data": {
      "image/png": "[encoded data removed]",
      "text/plain": [
       "<matplotlib.figure.Figure at 0x29b33bc4e10>"
      ]
     },
     "metadata": {},
     "output_type": "display_data"
    }
   ],
   "source": [
    "plot_roc_curve(models=[[fpr_m, tpr_m], [fpr_m_est, tpr_m_est], [[0,1], [0,1]]], \n",
    "               labels=['Model M\\'', 'NB m-estimate', 'Random Guesser'])"
   ]
  },
  {
   "cell_type": "markdown",
   "metadata": {},
   "source": [
    "#### Part C - Compute the AUC for all three classification models."
   ]
  },
  {
   "cell_type": "markdown",
   "metadata": {},
   "source": [
    "The AUC is computed and shown in the legend in the figure of part B. The function for computing the AUC is also implemented above."
   ]
  },
  {
   "cell_type": "markdown",
   "metadata": {},
   "source": [
    "#### Part D - Which of all three models do you think is better? Explain your reasons."
   ]
  },
  {
   "cell_type": "markdown",
   "metadata": {},
   "source": [
    "From the graph above, we can say that the Naive Bayes model with m-estimate approach is better than the M' model because it has a larger area under the curve."
   ]
  },
  {
   "cell_type": "markdown",
   "metadata": {},
   "source": [
    "#### Part E - For the NaïveBayes model, choose a cutoff threshold of 0.6. Then compute the precision, recall and F-measure for the model at this threshold value."
   ]
  },
  {
   "cell_type": "code",
   "execution_count": 163,
   "metadata": {},
   "outputs": [
    {
     "name": "stdout",
     "output_type": "stream",
     "text": [
      "   Class\n",
      "0  0.256\n",
      "1  0.256\n",
      "2  0.064\n",
      "3  0.064\n",
      "4  0.384\n",
      "5  0.384\n",
      "6  0.384\n",
      "7  0.064\n",
      "8  0.096\n",
      "9  0.384\n"
     ]
    }
   ],
   "source": [
    "threshold = 0.6\n",
    "predict_proba_1a = [x[1] for x in naive_m_estimate(X, Y)]\n",
    "predicted_y = DataFrame({'Class': predict_proba_1a})\n",
    "\n",
    "print(predicted_y)"
   ]
  },
  {
   "cell_type": "code",
   "execution_count": 164,
   "metadata": {},
   "outputs": [
    {
     "name": "stdout",
     "output_type": "stream",
     "text": [
      "   Class\n",
      "0    0.0\n",
      "1    0.0\n",
      "2    0.0\n",
      "3    0.0\n",
      "4    0.0\n",
      "5    0.0\n",
      "6    0.0\n",
      "7    0.0\n",
      "8    0.0\n",
      "9    0.0\n"
     ]
    }
   ],
   "source": [
    "predicted_y[predicted_y >= 0.6] = 1\n",
    "predicted_y[predicted_y < 0.6] = 0\n",
    "\n",
    "print(predicted_y)"
   ]
  },
  {
   "cell_type": "code",
   "execution_count": 165,
   "metadata": {},
   "outputs": [
    {
     "name": "stdout",
     "output_type": "stream",
     "text": [
      "[[0 5]\n",
      " [0 5]]\n"
     ]
    }
   ],
   "source": [
    "confusion_mat = confusion_matrix(Y, predicted_y)\n",
    "confusion_mat = np.flip(np.flip(confusion_mat, 1), 0)\n",
    "print(confusion_mat)"
   ]
  },
  {
   "cell_type": "code",
   "execution_count": 166,
   "metadata": {},
   "outputs": [
    {
     "name": "stdout",
     "output_type": "stream",
     "text": [
      "recall = 0.0000\n",
      "precision = 0.0000\n"
     ]
    },
    {
     "name": "stderr",
     "output_type": "stream",
     "text": [
      "C:\\Anaconda3\\lib\\site-packages\\ipykernel_launcher.py:3: RuntimeWarning: invalid value encountered in longlong_scalars\n",
      "  This is separate from the ipykernel package so we can avoid doing imports until\n"
     ]
    }
   ],
   "source": [
    "# Compute recall & precision\n",
    "recall = confusion_mat[0][0] / np.sum(confusion_mat[0])\n",
    "precision = confusion_mat[0][0] / np.sum(confusion_mat.T[0])\n",
    "precision = precision if ~np.isnan(precision) else 0\n",
    "\n",
    "print(\"recall = %.4f\" % recall)\n",
    "print(\"precision = %.4f\" % precision)"
   ]
  },
  {
   "cell_type": "code",
   "execution_count": 167,
   "metadata": {},
   "outputs": [
    {
     "name": "stdout",
     "output_type": "stream",
     "text": [
      "f-measure = 0.0000\n"
     ]
    }
   ],
   "source": [
    "# Compute f-measure\n",
    "f_measure = 0\n",
    "if ~(recall == 0) and ~(precision == 0):\n",
    "    f_measure = 2 / ((1 / recall) + (1 / precision))\n",
    "\n",
    "print(\"f-measure = %.4f\" % f_measure)"
   ]
  },
  {
   "cell_type": "code",
   "execution_count": null,
   "metadata": {},
   "outputs": [],
   "source": []
  }
 ],
 "metadata": {
  "kernelspec": {
   "display_name": "Python 3",
   "language": "python",
   "name": "python3"
  },
  "language_info": {
   "codemirror_mode": {
    "name": "ipython",
    "version": 3
   },
   "file_extension": ".py",
   "mimetype": "text/x-python",
   "name": "python",
   "nbconvert_exporter": "python",
   "pygments_lexer": "ipython3",
   "version": "3.6.4"
  }
 },
 "nbformat": 4,
 "nbformat_minor": 2
}
